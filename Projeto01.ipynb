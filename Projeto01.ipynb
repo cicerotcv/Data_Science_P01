{
 "cells": [
  {
   "cell_type": "markdown",
   "metadata": {},
   "source": [
    "# Projeto 01  | Ciência dos Dados | Engenharia 2B #\n",
    "***Aluno:*** Cicero Tiago Carneiro Valentim\n",
    "\n",
    "<p style=\"font-size:11px\">As informações disponíveis neste documento estão sujeitas a <b>alterações</b> até a data de entrega definitiva. </p>"
   ]
  },
  {
   "cell_type": "markdown",
   "metadata": {},
   "source": [
    "Esse projeto visa avaliar dados com base na Organisation for Economic Co-operation and Development ***(OECD)***.\n",
    "Serão cruzados dados para comparar o **consumo de calorias diárias por pessoa**, **expectativa de vida** e ***PIB per capita*** antes e depois de determinados países fazerem parte da organização. Além disso, países que ainda não fazem parte nos períodos estudados terão seus índices avaliados. Por fim, será que <b style=\"color:blue\">é correto dizer que países que entraram na OECD são beneficiados de forma expressiva se comparados a países que não entraram?</b>"
   ]
  },
  {
   "cell_type": "markdown",
   "metadata": {},
   "source": [
    "**1)** Importando as bibliotecas necessárias e definindo funções:"
   ]
  },
  {
   "cell_type": "code",
   "execution_count": 2,
   "metadata": {
    "scrolled": true
   },
   "outputs": [],
   "source": [
    "%matplotlib inline\n",
    "\n",
    "import pandas as pd\n",
    "import matplotlib.pyplot as plt\n",
    "from random import randint\n",
    "import numpy as np\n",
    "import seaborn as sns\n",
    "import os"
   ]
  },
  {
   "cell_type": "code",
   "execution_count": 3,
   "metadata": {},
   "outputs": [],
   "source": [
    "def pick(lista, qtd):\n",
    "    temp = []\n",
    "    while len(temp) < qtd:\n",
    "        temp_a = lista[randint(0,len(lista)-1)]\n",
    "        if temp_a not in temp:\n",
    "            temp.append(temp_a)\n",
    "    return temp\n",
    "        "
   ]
  },
  {
   "cell_type": "markdown",
   "metadata": {},
   "source": [
    "**2)** Definindo o caminho das tabelas"
   ]
  },
  {
   "cell_type": "code",
   "execution_count": 4,
   "metadata": {
    "scrolled": true
   },
   "outputs": [],
   "source": [
    "tabs = os.getcwd() + \"/tabs/\""
   ]
  },
  {
   "cell_type": "markdown",
   "metadata": {},
   "source": [
    "<b>3)</b> Vamos tratar a lista de países e datas de entrada na Organização de forma que possamos obter um dicionário cujas chaves são strings com nomes de países e cujos valores são anos de ingresso. <br>Conjunto de paises membros da OECD e suas respectivas datas de entrada:<br><i style=\"font-size:12px;font-family:monospace\">A lista de países pode ser acessada em: http://worldpopulationreview.com/countries/oecd-countries/</i>"
   ]
  },
  {
   "cell_type": "code",
   "execution_count": 5,
   "metadata": {
    "scrolled": true
   },
   "outputs": [
    {
     "name": "stdout",
     "output_type": "stream",
     "text": [
      "Quantidade de países membros: 27\n"
     ]
    }
   ],
   "source": [
    "# partindo da lista de países membros retirada do link referenciado acima, a seguinte string será fatiada, \n",
    "# filtrada e formatada em dicionário para que possa ser utilizada no tratamento dos dados.\n",
    "\n",
    "paises = \"\"\"Australia, June 7, 1971\n",
    "Austria, September 29, 1961\n",
    "Belgium, September 13, 1961\n",
    "Canada, April 10, 1961\n",
    "Chile, May 7, 2010\n",
    "The Czech Republic, December 21, 1995\n",
    "Denmark, May 30, 1961\n",
    "Estonia, December 9, 2010\n",
    "Finland, January 28, 1969\n",
    "France, August 7, 1961\n",
    "Germany, September 27, 1961\n",
    "Greece, September 27, 1961\n",
    "Hungary, May 7, 1996\n",
    "Iceland, June 5, 1961\n",
    "Ireland, August 17, 1961\n",
    "Israel, September 7, 2010\n",
    "Italy, March 29, 1962\n",
    "Japan, April 28, 1974\n",
    "Korea, December 12, 1996\n",
    "Latvia, July 1, 2016\n",
    "Lithuania, July 5, 2018\n",
    "Luxembourg, December 7, 1961\n",
    "Mexico, May 18, 1994\n",
    "The Netherlands, November 13, 1961\n",
    "New Zealand, May 29, 1973\n",
    "Norway, July 4, 1961\n",
    "Poland, November 22, 1996\"\"\"\n",
    "\n",
    "paises = paises.split(\"\\n\")                 # \"\"\"Norway, July 4, 1961\n",
    "                                            # Poland, November 22, 1996\"\"\" --> [\"Norway, July 4, 1961\",\"Poland, November 22, 1996]\n",
    "\n",
    "paises_oecd = {}\n",
    "for i in range(len(paises)):\n",
    "    paises[i] = paises[i].split(',')        #  \"Poland, November 22, 1996\" --> [\"Poland\",\" November 22\",\" 1996\"]\n",
    "    paises[i][2].replace(\" \",\"\")            #  [\"Poland\",\" November 22\",\" 1996\"] --> [\"Poland\",\" November 22\",\"1996\"]\n",
    "    paises[i][2] = int(paises[i][2])        #  [\"Poland\",\" November 22\",\"1996\"] --> [\"Poland\",\" November 22\", 1996]\n",
    "    del paises[i][1]                        #  [\"Poland\",\" November 22\",\"1996\"] --> [\"Poland\", 1996]\n",
    "    paises_oecd[paises[i][0]]=[paises[i][1]]  #  [\"Poland\", 1996] --> {... \"Poland\": [1996], ...}\n",
    "    \n",
    "\n",
    "# Quantidade de países membros:\n",
    "print(\"Quantidade de países membros: {}\".format(len(paises_oecd)))"
   ]
  },
  {
   "cell_type": "code",
   "execution_count": 7,
   "metadata": {},
   "outputs": [
    {
     "name": "stdout",
     "output_type": "stream",
     "text": [
      "{'Australia': [1971], 'Austria': [1961], 'Belgium': [1961], 'Canada': [1961], 'Chile': [2010], 'The Czech Republic': [1995], 'Denmark': [1961], 'Estonia': [2010], 'Finland': [1969], 'France': [1961], 'Germany': [1961], 'Greece': [1961], 'Hungary': [1996], 'Iceland': [1961], 'Ireland': [1961], 'Israel': [2010], 'Italy': [1962], 'Japan': [1974], 'Korea': [1996], 'Latvia': [2016], 'Lithuania': [2018], 'Luxembourg': [1961], 'Mexico': [1994], 'The Netherlands': [1961], 'New Zealand': [1973], 'Norway': [1961], 'Poland': [1996]}\n"
     ]
    }
   ],
   "source": [
    "print(paises_oecd)"
   ]
  },
  {
   "cell_type": "markdown",
   "metadata": {
    "scrolled": false
   },
   "source": [
    "Criando <i>dataframes</i> apenas com países membros:"
   ]
  },
  {
   "cell_type": "code",
   "execution_count": 5,
   "metadata": {
    "scrolled": true
   },
   "outputs": [
    {
     "data": {
      "text/html": [
       "<div>\n",
       "<style scoped>\n",
       "    .dataframe tbody tr th:only-of-type {\n",
       "        vertical-align: middle;\n",
       "    }\n",
       "\n",
       "    .dataframe tbody tr th {\n",
       "        vertical-align: top;\n",
       "    }\n",
       "\n",
       "    .dataframe thead th {\n",
       "        text-align: right;\n",
       "    }\n",
       "</style>\n",
       "<table border=\"1\" class=\"dataframe\">\n",
       "  <thead>\n",
       "    <tr style=\"text-align: right;\">\n",
       "      <th></th>\n",
       "      <th>0</th>\n",
       "    </tr>\n",
       "  </thead>\n",
       "  <tbody>\n",
       "    <tr>\n",
       "      <th>Australia</th>\n",
       "      <td>1971</td>\n",
       "    </tr>\n",
       "    <tr>\n",
       "      <th>Austria</th>\n",
       "      <td>1961</td>\n",
       "    </tr>\n",
       "    <tr>\n",
       "      <th>Belgium</th>\n",
       "      <td>1961</td>\n",
       "    </tr>\n",
       "    <tr>\n",
       "      <th>Canada</th>\n",
       "      <td>1961</td>\n",
       "    </tr>\n",
       "    <tr>\n",
       "      <th>Chile</th>\n",
       "      <td>2010</td>\n",
       "    </tr>\n",
       "    <tr>\n",
       "      <th>The Czech Republic</th>\n",
       "      <td>1995</td>\n",
       "    </tr>\n",
       "    <tr>\n",
       "      <th>Denmark</th>\n",
       "      <td>1961</td>\n",
       "    </tr>\n",
       "    <tr>\n",
       "      <th>Estonia</th>\n",
       "      <td>2010</td>\n",
       "    </tr>\n",
       "    <tr>\n",
       "      <th>Finland</th>\n",
       "      <td>1969</td>\n",
       "    </tr>\n",
       "    <tr>\n",
       "      <th>France</th>\n",
       "      <td>1961</td>\n",
       "    </tr>\n",
       "    <tr>\n",
       "      <th>Germany</th>\n",
       "      <td>1961</td>\n",
       "    </tr>\n",
       "    <tr>\n",
       "      <th>Greece</th>\n",
       "      <td>1961</td>\n",
       "    </tr>\n",
       "    <tr>\n",
       "      <th>Hungary</th>\n",
       "      <td>1996</td>\n",
       "    </tr>\n",
       "    <tr>\n",
       "      <th>Iceland</th>\n",
       "      <td>1961</td>\n",
       "    </tr>\n",
       "    <tr>\n",
       "      <th>Ireland</th>\n",
       "      <td>1961</td>\n",
       "    </tr>\n",
       "    <tr>\n",
       "      <th>Israel</th>\n",
       "      <td>2010</td>\n",
       "    </tr>\n",
       "    <tr>\n",
       "      <th>Italy</th>\n",
       "      <td>1962</td>\n",
       "    </tr>\n",
       "    <tr>\n",
       "      <th>Japan</th>\n",
       "      <td>1974</td>\n",
       "    </tr>\n",
       "    <tr>\n",
       "      <th>Korea</th>\n",
       "      <td>1996</td>\n",
       "    </tr>\n",
       "    <tr>\n",
       "      <th>Latvia</th>\n",
       "      <td>2016</td>\n",
       "    </tr>\n",
       "    <tr>\n",
       "      <th>Lithuania</th>\n",
       "      <td>2018</td>\n",
       "    </tr>\n",
       "    <tr>\n",
       "      <th>Luxembourg</th>\n",
       "      <td>1961</td>\n",
       "    </tr>\n",
       "    <tr>\n",
       "      <th>Mexico</th>\n",
       "      <td>1994</td>\n",
       "    </tr>\n",
       "    <tr>\n",
       "      <th>The Netherlands</th>\n",
       "      <td>1961</td>\n",
       "    </tr>\n",
       "    <tr>\n",
       "      <th>New Zealand</th>\n",
       "      <td>1973</td>\n",
       "    </tr>\n",
       "    <tr>\n",
       "      <th>Norway</th>\n",
       "      <td>1961</td>\n",
       "    </tr>\n",
       "    <tr>\n",
       "      <th>Poland</th>\n",
       "      <td>1996</td>\n",
       "    </tr>\n",
       "  </tbody>\n",
       "</table>\n",
       "</div>"
      ],
      "text/plain": [
       "                       0\n",
       "Australia           1971\n",
       "Austria             1961\n",
       "Belgium             1961\n",
       "Canada              1961\n",
       "Chile               2010\n",
       "The Czech Republic  1995\n",
       "Denmark             1961\n",
       "Estonia             2010\n",
       "Finland             1969\n",
       "France              1961\n",
       "Germany             1961\n",
       "Greece              1961\n",
       "Hungary             1996\n",
       "Iceland             1961\n",
       "Ireland             1961\n",
       "Israel              2010\n",
       "Italy               1962\n",
       "Japan               1974\n",
       "Korea               1996\n",
       "Latvia              2016\n",
       "Lithuania           2018\n",
       "Luxembourg          1961\n",
       "Mexico              1994\n",
       "The Netherlands     1961\n",
       "New Zealand         1973\n",
       "Norway              1961\n",
       "Poland              1996"
      ]
     },
     "execution_count": 5,
     "metadata": {},
     "output_type": "execute_result"
    }
   ],
   "source": [
    "paises_oecd = pd.DataFrame(paises_oecd).T\n",
    "paises_oecd # necessário renomear a coluna int(0) para \"years\" e definir o index como \"country\""
   ]
  },
  {
   "cell_type": "code",
   "execution_count": 6,
   "metadata": {
    "scrolled": false
   },
   "outputs": [
    {
     "data": {
      "text/html": [
       "<div>\n",
       "<style scoped>\n",
       "    .dataframe tbody tr th:only-of-type {\n",
       "        vertical-align: middle;\n",
       "    }\n",
       "\n",
       "    .dataframe tbody tr th {\n",
       "        vertical-align: top;\n",
       "    }\n",
       "\n",
       "    .dataframe thead th {\n",
       "        text-align: right;\n",
       "    }\n",
       "</style>\n",
       "<table border=\"1\" class=\"dataframe\">\n",
       "  <thead>\n",
       "    <tr style=\"text-align: right;\">\n",
       "      <th></th>\n",
       "      <th>years</th>\n",
       "    </tr>\n",
       "    <tr>\n",
       "      <th>country</th>\n",
       "      <th></th>\n",
       "    </tr>\n",
       "  </thead>\n",
       "  <tbody>\n",
       "    <tr>\n",
       "      <th>Australia</th>\n",
       "      <td>1971</td>\n",
       "    </tr>\n",
       "    <tr>\n",
       "      <th>Austria</th>\n",
       "      <td>1961</td>\n",
       "    </tr>\n",
       "    <tr>\n",
       "      <th>Belgium</th>\n",
       "      <td>1961</td>\n",
       "    </tr>\n",
       "  </tbody>\n",
       "</table>\n",
       "</div>"
      ],
      "text/plain": [
       "           years\n",
       "country         \n",
       "Australia   1971\n",
       "Austria     1961\n",
       "Belgium     1961"
      ]
     },
     "execution_count": 6,
     "metadata": {},
     "output_type": "execute_result"
    }
   ],
   "source": [
    "paises_oecd = paises_oecd.rename(columns={0:\"years\",})\n",
    "paises_oecd.index.names = [\"country\"]\n",
    "paises_oecd.head(3)                           # formatado"
   ]
  },
  {
   "cell_type": "markdown",
   "metadata": {},
   "source": [
    "<b>4)</b> Importando <i>dataframes</i> obtidos no <b><a href=\"gapminder.org\">Gapminder</a></b>."
   ]
  },
  {
   "cell_type": "code",
   "execution_count": 7,
   "metadata": {
    "scrolled": false
   },
   "outputs": [],
   "source": [
    "food = pd.read_excel(tabs+\"food_consumption.xlsx\")      # kcal/pessoa/dia\n",
    "life = pd.read_excel(tabs+'life_expectancy_years.xlsx') # expectativa de vida"
   ]
  },
  {
   "cell_type": "markdown",
   "metadata": {},
   "source": [
    "Verificando a formatação dos <i>dataframes</i>:"
   ]
  },
  {
   "cell_type": "code",
   "execution_count": 8,
   "metadata": {
    "scrolled": false
   },
   "outputs": [
    {
     "data": {
      "text/html": [
       "<div>\n",
       "<style scoped>\n",
       "    .dataframe tbody tr th:only-of-type {\n",
       "        vertical-align: middle;\n",
       "    }\n",
       "\n",
       "    .dataframe tbody tr th {\n",
       "        vertical-align: top;\n",
       "    }\n",
       "\n",
       "    .dataframe thead th {\n",
       "        text-align: right;\n",
       "    }\n",
       "</style>\n",
       "<table border=\"1\" class=\"dataframe\">\n",
       "  <thead>\n",
       "    <tr style=\"text-align: right;\">\n",
       "      <th></th>\n",
       "      <th>1961</th>\n",
       "      <th>1962</th>\n",
       "      <th>1963</th>\n",
       "      <th>1964</th>\n",
       "      <th>1965</th>\n",
       "      <th>1966</th>\n",
       "      <th>1967</th>\n",
       "      <th>1968</th>\n",
       "      <th>1969</th>\n",
       "      <th>1970</th>\n",
       "      <th>...</th>\n",
       "      <th>1998</th>\n",
       "      <th>1999</th>\n",
       "      <th>2000</th>\n",
       "      <th>2001</th>\n",
       "      <th>2002</th>\n",
       "      <th>2003</th>\n",
       "      <th>2004</th>\n",
       "      <th>2005</th>\n",
       "      <th>2006</th>\n",
       "      <th>2007</th>\n",
       "    </tr>\n",
       "  </thead>\n",
       "  <tbody>\n",
       "    <tr>\n",
       "      <th>Abkhazia</th>\n",
       "      <td>NaN</td>\n",
       "      <td>NaN</td>\n",
       "      <td>NaN</td>\n",
       "      <td>NaN</td>\n",
       "      <td>NaN</td>\n",
       "      <td>NaN</td>\n",
       "      <td>NaN</td>\n",
       "      <td>NaN</td>\n",
       "      <td>NaN</td>\n",
       "      <td>NaN</td>\n",
       "      <td>...</td>\n",
       "      <td>NaN</td>\n",
       "      <td>NaN</td>\n",
       "      <td>NaN</td>\n",
       "      <td>NaN</td>\n",
       "      <td>NaN</td>\n",
       "      <td>NaN</td>\n",
       "      <td>NaN</td>\n",
       "      <td>NaN</td>\n",
       "      <td>NaN</td>\n",
       "      <td>NaN</td>\n",
       "    </tr>\n",
       "    <tr>\n",
       "      <th>Afghanistan</th>\n",
       "      <td>NaN</td>\n",
       "      <td>NaN</td>\n",
       "      <td>NaN</td>\n",
       "      <td>NaN</td>\n",
       "      <td>NaN</td>\n",
       "      <td>NaN</td>\n",
       "      <td>NaN</td>\n",
       "      <td>NaN</td>\n",
       "      <td>NaN</td>\n",
       "      <td>NaN</td>\n",
       "      <td>...</td>\n",
       "      <td>NaN</td>\n",
       "      <td>NaN</td>\n",
       "      <td>NaN</td>\n",
       "      <td>NaN</td>\n",
       "      <td>NaN</td>\n",
       "      <td>NaN</td>\n",
       "      <td>NaN</td>\n",
       "      <td>NaN</td>\n",
       "      <td>NaN</td>\n",
       "      <td>NaN</td>\n",
       "    </tr>\n",
       "    <tr>\n",
       "      <th>Akrotiri and Dhekelia</th>\n",
       "      <td>NaN</td>\n",
       "      <td>NaN</td>\n",
       "      <td>NaN</td>\n",
       "      <td>NaN</td>\n",
       "      <td>NaN</td>\n",
       "      <td>NaN</td>\n",
       "      <td>NaN</td>\n",
       "      <td>NaN</td>\n",
       "      <td>NaN</td>\n",
       "      <td>NaN</td>\n",
       "      <td>...</td>\n",
       "      <td>NaN</td>\n",
       "      <td>NaN</td>\n",
       "      <td>NaN</td>\n",
       "      <td>NaN</td>\n",
       "      <td>NaN</td>\n",
       "      <td>NaN</td>\n",
       "      <td>NaN</td>\n",
       "      <td>NaN</td>\n",
       "      <td>NaN</td>\n",
       "      <td>NaN</td>\n",
       "    </tr>\n",
       "  </tbody>\n",
       "</table>\n",
       "<p>3 rows × 47 columns</p>\n",
       "</div>"
      ],
      "text/plain": [
       "                       1961  1962  1963  1964  1965  1966  1967  1968  1969  \\\n",
       "Abkhazia                NaN   NaN   NaN   NaN   NaN   NaN   NaN   NaN   NaN   \n",
       "Afghanistan             NaN   NaN   NaN   NaN   NaN   NaN   NaN   NaN   NaN   \n",
       "Akrotiri and Dhekelia   NaN   NaN   NaN   NaN   NaN   NaN   NaN   NaN   NaN   \n",
       "\n",
       "                       1970  ...   1998  1999  2000  2001  2002  2003  2004  \\\n",
       "Abkhazia                NaN  ...    NaN   NaN   NaN   NaN   NaN   NaN   NaN   \n",
       "Afghanistan             NaN  ...    NaN   NaN   NaN   NaN   NaN   NaN   NaN   \n",
       "Akrotiri and Dhekelia   NaN  ...    NaN   NaN   NaN   NaN   NaN   NaN   NaN   \n",
       "\n",
       "                       2005  2006  2007  \n",
       "Abkhazia                NaN   NaN   NaN  \n",
       "Afghanistan             NaN   NaN   NaN  \n",
       "Akrotiri and Dhekelia   NaN   NaN   NaN  \n",
       "\n",
       "[3 rows x 47 columns]"
      ]
     },
     "execution_count": 8,
     "metadata": {},
     "output_type": "execute_result"
    }
   ],
   "source": [
    "food.head(3) # necessário 'setar' o index do dataframe"
   ]
  },
  {
   "cell_type": "code",
   "execution_count": 9,
   "metadata": {
    "scrolled": true
   },
   "outputs": [
    {
     "data": {
      "text/html": [
       "<div>\n",
       "<style scoped>\n",
       "    .dataframe tbody tr th:only-of-type {\n",
       "        vertical-align: middle;\n",
       "    }\n",
       "\n",
       "    .dataframe tbody tr th {\n",
       "        vertical-align: top;\n",
       "    }\n",
       "\n",
       "    .dataframe thead th {\n",
       "        text-align: right;\n",
       "    }\n",
       "</style>\n",
       "<table border=\"1\" class=\"dataframe\">\n",
       "  <thead>\n",
       "    <tr style=\"text-align: right;\">\n",
       "      <th></th>\n",
       "      <th>country</th>\n",
       "      <th>1800</th>\n",
       "      <th>1801</th>\n",
       "      <th>1802</th>\n",
       "      <th>1803</th>\n",
       "      <th>1804</th>\n",
       "      <th>1805</th>\n",
       "      <th>1806</th>\n",
       "      <th>1807</th>\n",
       "      <th>1808</th>\n",
       "      <th>...</th>\n",
       "      <th>2009</th>\n",
       "      <th>2010</th>\n",
       "      <th>2011</th>\n",
       "      <th>2012</th>\n",
       "      <th>2013</th>\n",
       "      <th>2014</th>\n",
       "      <th>2015</th>\n",
       "      <th>2016</th>\n",
       "      <th>2017</th>\n",
       "      <th>2018</th>\n",
       "    </tr>\n",
       "  </thead>\n",
       "  <tbody>\n",
       "    <tr>\n",
       "      <th>0</th>\n",
       "      <td>Afghanistan</td>\n",
       "      <td>28.2</td>\n",
       "      <td>28.2</td>\n",
       "      <td>28.2</td>\n",
       "      <td>28.2</td>\n",
       "      <td>28.2</td>\n",
       "      <td>28.2</td>\n",
       "      <td>28.1</td>\n",
       "      <td>28.1</td>\n",
       "      <td>28.1</td>\n",
       "      <td>...</td>\n",
       "      <td>55.7</td>\n",
       "      <td>56.2</td>\n",
       "      <td>56.7</td>\n",
       "      <td>57.2</td>\n",
       "      <td>57.7</td>\n",
       "      <td>57.8</td>\n",
       "      <td>57.9</td>\n",
       "      <td>58.0</td>\n",
       "      <td>58.4</td>\n",
       "      <td>58.7</td>\n",
       "    </tr>\n",
       "    <tr>\n",
       "      <th>1</th>\n",
       "      <td>Albania</td>\n",
       "      <td>35.4</td>\n",
       "      <td>35.4</td>\n",
       "      <td>35.4</td>\n",
       "      <td>35.4</td>\n",
       "      <td>35.4</td>\n",
       "      <td>35.4</td>\n",
       "      <td>35.4</td>\n",
       "      <td>35.4</td>\n",
       "      <td>35.4</td>\n",
       "      <td>...</td>\n",
       "      <td>75.9</td>\n",
       "      <td>76.3</td>\n",
       "      <td>76.7</td>\n",
       "      <td>77.0</td>\n",
       "      <td>77.2</td>\n",
       "      <td>77.4</td>\n",
       "      <td>77.6</td>\n",
       "      <td>77.7</td>\n",
       "      <td>77.9</td>\n",
       "      <td>78.0</td>\n",
       "    </tr>\n",
       "    <tr>\n",
       "      <th>2</th>\n",
       "      <td>Algeria</td>\n",
       "      <td>28.8</td>\n",
       "      <td>28.8</td>\n",
       "      <td>28.8</td>\n",
       "      <td>28.8</td>\n",
       "      <td>28.8</td>\n",
       "      <td>28.8</td>\n",
       "      <td>28.8</td>\n",
       "      <td>28.8</td>\n",
       "      <td>28.8</td>\n",
       "      <td>...</td>\n",
       "      <td>76.3</td>\n",
       "      <td>76.5</td>\n",
       "      <td>76.7</td>\n",
       "      <td>76.8</td>\n",
       "      <td>77.0</td>\n",
       "      <td>77.1</td>\n",
       "      <td>77.3</td>\n",
       "      <td>77.4</td>\n",
       "      <td>77.6</td>\n",
       "      <td>77.9</td>\n",
       "    </tr>\n",
       "  </tbody>\n",
       "</table>\n",
       "<p>3 rows × 220 columns</p>\n",
       "</div>"
      ],
      "text/plain": [
       "       country  1800  1801  1802  1803  1804  1805  1806  1807  1808  ...   \\\n",
       "0  Afghanistan  28.2  28.2  28.2  28.2  28.2  28.2  28.1  28.1  28.1  ...    \n",
       "1      Albania  35.4  35.4  35.4  35.4  35.4  35.4  35.4  35.4  35.4  ...    \n",
       "2      Algeria  28.8  28.8  28.8  28.8  28.8  28.8  28.8  28.8  28.8  ...    \n",
       "\n",
       "   2009  2010  2011  2012  2013  2014  2015  2016  2017  2018  \n",
       "0  55.7  56.2  56.7  57.2  57.7  57.8  57.9  58.0  58.4  58.7  \n",
       "1  75.9  76.3  76.7  77.0  77.2  77.4  77.6  77.7  77.9  78.0  \n",
       "2  76.3  76.5  76.7  76.8  77.0  77.1  77.3  77.4  77.6  77.9  \n",
       "\n",
       "[3 rows x 220 columns]"
      ]
     },
     "execution_count": 9,
     "metadata": {},
     "output_type": "execute_result"
    }
   ],
   "source": [
    "life.head(3) # index 'setado'"
   ]
  },
  {
   "cell_type": "markdown",
   "metadata": {
    "scrolled": false
   },
   "source": [
    "Formatando as tabelas"
   ]
  },
  {
   "cell_type": "code",
   "execution_count": 10,
   "metadata": {
    "scrolled": true
   },
   "outputs": [],
   "source": [
    "food.index.names = [\"country\"]           # definindo o nome da primeira coluna como \"country\"\n",
    "food.columns.names = [\"years\"]           # definindo o nome da primeira linha como \"years\"\n",
    "\n",
    "life = life.set_index([\"country\"])       # definindo a coluna \"country\" como index\n",
    "life.columns.names = [\"years\"]           # definindo o nome da primeira linha como \"years\""
   ]
  },
  {
   "cell_type": "markdown",
   "metadata": {},
   "source": [
    "Removendo valores nulos das tabelas"
   ]
  },
  {
   "cell_type": "code",
   "execution_count": 11,
   "metadata": {
    "scrolled": false
   },
   "outputs": [
    {
     "name": "stdout",
     "output_type": "stream",
     "text": [
      "food:\t(151, 47)\n",
      "life:\t(184, 219)\n"
     ]
    }
   ],
   "source": [
    "food = food.dropna()\n",
    "life = life.dropna() \n",
    "\n",
    "template = \"food:\\t{0}\\nlife:\\t{1}\".format(food.shape,life.shape)\n",
    "print(template)"
   ]
  },
  {
   "cell_type": "markdown",
   "metadata": {},
   "source": [
    "Como podemos ver, o dataframe \"life\" é o que possui a maior quantidade de países listados. Usaremos a lista de países dele de agora em diante como referência."
   ]
  },
  {
   "cell_type": "markdown",
   "metadata": {},
   "source": [
    "<b>5)</b> Separando os indicadores entre os países que participam e entre os que não participam da organização:"
   ]
  },
  {
   "cell_type": "code",
   "execution_count": 12,
   "metadata": {
    "scrolled": false
   },
   "outputs": [],
   "source": [
    "food_oecd = food.reindex(paises_oecd.index)\n",
    "life_oecd = life.reindex(paises_oecd.index)"
   ]
  },
  {
   "cell_type": "code",
   "execution_count": 13,
   "metadata": {},
   "outputs": [],
   "source": [
    "pAll = pd.DataFrame(life.index).set_index(\"country\")\n",
    "pIn = pd.DataFrame(paises_oecd.index).set_index('country')"
   ]
  },
  {
   "cell_type": "code",
   "execution_count": 14,
   "metadata": {},
   "outputs": [],
   "source": [
    "temp = []\n",
    "for pais in pAll.index:\n",
    "    if pais not in pIn.index:\n",
    "        temp.append(pais)\n",
    "pOut = pd.DataFrame(temp)\n",
    "temp = []\n",
    "pOut = pOut.set_index(0)\n",
    "pOut.index.names = [\"country_out\"]"
   ]
  },
  {
   "cell_type": "code",
   "execution_count": 15,
   "metadata": {
    "scrolled": true
   },
   "outputs": [
    {
     "data": {
      "text/plain": [
       "(160, 0)"
      ]
     },
     "execution_count": 15,
     "metadata": {},
     "output_type": "execute_result"
    }
   ],
   "source": [
    "pOut.shape"
   ]
  },
  {
   "cell_type": "markdown",
   "metadata": {},
   "source": [
    "<b>6)</b> Agora que temos os dados separados em diversas categorias, vamos unificar todos eles"
   ]
  },
  {
   "cell_type": "code",
   "execution_count": 16,
   "metadata": {},
   "outputs": [],
   "source": [
    "data = {\n",
    "    \"in\":{\n",
    "        \"food\":{},\n",
    "        \"life\":{}\n",
    "    },\n",
    "    \"out\":{\n",
    "        \"food\":{},\n",
    "        \"life\":{}\n",
    "    }\n",
    "}"
   ]
  },
  {
   "cell_type": "code",
   "execution_count": 17,
   "metadata": {},
   "outputs": [],
   "source": [
    "for pais in pIn.index:\n",
    "    if pais in food.T:\n",
    "        data[\"in\"][\"food\"][pais]=pd.DataFrame(food.T[pais])\n",
    "    if pais in life.T:    \n",
    "        data[\"in\"][\"life\"][pais]=pd.DataFrame(life.T[pais])"
   ]
  },
  {
   "cell_type": "code",
   "execution_count": 18,
   "metadata": {},
   "outputs": [],
   "source": [
    "for pais in pOut.index:\n",
    "    if pais in food.T:\n",
    "        data[\"out\"][\"food\"][pais]=pd.DataFrame(food.T[pais])\n",
    "    if pais in life.T:    \n",
    "        data[\"out\"][\"life\"][pais]=pd.DataFrame(life.T[pais])"
   ]
  },
  {
   "cell_type": "code",
   "execution_count": 19,
   "metadata": {},
   "outputs": [
    {
     "data": {
      "text/html": [
       "<div>\n",
       "<style scoped>\n",
       "    .dataframe tbody tr th:only-of-type {\n",
       "        vertical-align: middle;\n",
       "    }\n",
       "\n",
       "    .dataframe tbody tr th {\n",
       "        vertical-align: top;\n",
       "    }\n",
       "\n",
       "    .dataframe thead th {\n",
       "        text-align: right;\n",
       "    }\n",
       "</style>\n",
       "<table border=\"1\" class=\"dataframe\">\n",
       "  <thead>\n",
       "    <tr style=\"text-align: right;\">\n",
       "      <th></th>\n",
       "      <th>Australia</th>\n",
       "    </tr>\n",
       "    <tr>\n",
       "      <th>years</th>\n",
       "      <th></th>\n",
       "    </tr>\n",
       "  </thead>\n",
       "  <tbody>\n",
       "    <tr>\n",
       "      <th>1961</th>\n",
       "      <td>3086.60</td>\n",
       "    </tr>\n",
       "    <tr>\n",
       "      <th>1962</th>\n",
       "      <td>3094.80</td>\n",
       "    </tr>\n",
       "    <tr>\n",
       "      <th>1963</th>\n",
       "      <td>3132.78</td>\n",
       "    </tr>\n",
       "  </tbody>\n",
       "</table>\n",
       "</div>"
      ],
      "text/plain": [
       "       Australia\n",
       "years           \n",
       "1961     3086.60\n",
       "1962     3094.80\n",
       "1963     3132.78"
      ]
     },
     "execution_count": 19,
     "metadata": {},
     "output_type": "execute_result"
    }
   ],
   "source": [
    "data['in']['food'][\"Australia\"].head(3)"
   ]
  },
  {
   "cell_type": "code",
   "execution_count": 20,
   "metadata": {
    "scrolled": true
   },
   "outputs": [
    {
     "data": {
      "text/html": [
       "<div>\n",
       "<style scoped>\n",
       "    .dataframe tbody tr th:only-of-type {\n",
       "        vertical-align: middle;\n",
       "    }\n",
       "\n",
       "    .dataframe tbody tr th {\n",
       "        vertical-align: top;\n",
       "    }\n",
       "\n",
       "    .dataframe thead th {\n",
       "        text-align: right;\n",
       "    }\n",
       "</style>\n",
       "<table border=\"1\" class=\"dataframe\">\n",
       "  <thead>\n",
       "    <tr style=\"text-align: right;\">\n",
       "      <th></th>\n",
       "      <th>Australia</th>\n",
       "    </tr>\n",
       "    <tr>\n",
       "      <th>years</th>\n",
       "      <th></th>\n",
       "    </tr>\n",
       "  </thead>\n",
       "  <tbody>\n",
       "    <tr>\n",
       "      <th>1961</th>\n",
       "      <td>3086.60</td>\n",
       "    </tr>\n",
       "    <tr>\n",
       "      <th>1962</th>\n",
       "      <td>3094.80</td>\n",
       "    </tr>\n",
       "    <tr>\n",
       "      <th>1963</th>\n",
       "      <td>3132.78</td>\n",
       "    </tr>\n",
       "    <tr>\n",
       "      <th>1964</th>\n",
       "      <td>3103.23</td>\n",
       "    </tr>\n",
       "    <tr>\n",
       "      <th>1965</th>\n",
       "      <td>3053.95</td>\n",
       "    </tr>\n",
       "    <tr>\n",
       "      <th>1966</th>\n",
       "      <td>3133.05</td>\n",
       "    </tr>\n",
       "    <tr>\n",
       "      <th>1967</th>\n",
       "      <td>3089.43</td>\n",
       "    </tr>\n",
       "    <tr>\n",
       "      <th>1968</th>\n",
       "      <td>3133.11</td>\n",
       "    </tr>\n",
       "    <tr>\n",
       "      <th>1969</th>\n",
       "      <td>3156.68</td>\n",
       "    </tr>\n",
       "    <tr>\n",
       "      <th>1970</th>\n",
       "      <td>3202.12</td>\n",
       "    </tr>\n",
       "    <tr>\n",
       "      <th>1971</th>\n",
       "      <td>3244.26</td>\n",
       "    </tr>\n",
       "    <tr>\n",
       "      <th>1972</th>\n",
       "      <td>3295.29</td>\n",
       "    </tr>\n",
       "    <tr>\n",
       "      <th>1973</th>\n",
       "      <td>3161.55</td>\n",
       "    </tr>\n",
       "    <tr>\n",
       "      <th>1974</th>\n",
       "      <td>3105.81</td>\n",
       "    </tr>\n",
       "    <tr>\n",
       "      <th>1975</th>\n",
       "      <td>3165.20</td>\n",
       "    </tr>\n",
       "    <tr>\n",
       "      <th>1976</th>\n",
       "      <td>3171.06</td>\n",
       "    </tr>\n",
       "    <tr>\n",
       "      <th>1977</th>\n",
       "      <td>3113.85</td>\n",
       "    </tr>\n",
       "    <tr>\n",
       "      <th>1978</th>\n",
       "      <td>3060.94</td>\n",
       "    </tr>\n",
       "    <tr>\n",
       "      <th>1979</th>\n",
       "      <td>3040.05</td>\n",
       "    </tr>\n",
       "    <tr>\n",
       "      <th>1980</th>\n",
       "      <td>3067.60</td>\n",
       "    </tr>\n",
       "    <tr>\n",
       "      <th>1981</th>\n",
       "      <td>3079.17</td>\n",
       "    </tr>\n",
       "    <tr>\n",
       "      <th>1982</th>\n",
       "      <td>3108.89</td>\n",
       "    </tr>\n",
       "    <tr>\n",
       "      <th>1983</th>\n",
       "      <td>3049.26</td>\n",
       "    </tr>\n",
       "    <tr>\n",
       "      <th>1984</th>\n",
       "      <td>3100.27</td>\n",
       "    </tr>\n",
       "    <tr>\n",
       "      <th>1985</th>\n",
       "      <td>3134.12</td>\n",
       "    </tr>\n",
       "    <tr>\n",
       "      <th>1986</th>\n",
       "      <td>3088.53</td>\n",
       "    </tr>\n",
       "    <tr>\n",
       "      <th>1987</th>\n",
       "      <td>3113.50</td>\n",
       "    </tr>\n",
       "    <tr>\n",
       "      <th>1988</th>\n",
       "      <td>3121.54</td>\n",
       "    </tr>\n",
       "    <tr>\n",
       "      <th>1989</th>\n",
       "      <td>3141.58</td>\n",
       "    </tr>\n",
       "    <tr>\n",
       "      <th>1990</th>\n",
       "      <td>3177.79</td>\n",
       "    </tr>\n",
       "    <tr>\n",
       "      <th>1991</th>\n",
       "      <td>3109.40</td>\n",
       "    </tr>\n",
       "    <tr>\n",
       "      <th>1992</th>\n",
       "      <td>3116.99</td>\n",
       "    </tr>\n",
       "    <tr>\n",
       "      <th>1993</th>\n",
       "      <td>3044.14</td>\n",
       "    </tr>\n",
       "    <tr>\n",
       "      <th>1994</th>\n",
       "      <td>3038.66</td>\n",
       "    </tr>\n",
       "    <tr>\n",
       "      <th>1995</th>\n",
       "      <td>3081.55</td>\n",
       "    </tr>\n",
       "    <tr>\n",
       "      <th>1996</th>\n",
       "      <td>3056.62</td>\n",
       "    </tr>\n",
       "    <tr>\n",
       "      <th>1997</th>\n",
       "      <td>3091.38</td>\n",
       "    </tr>\n",
       "    <tr>\n",
       "      <th>1998</th>\n",
       "      <td>3015.25</td>\n",
       "    </tr>\n",
       "    <tr>\n",
       "      <th>1999</th>\n",
       "      <td>3013.15</td>\n",
       "    </tr>\n",
       "    <tr>\n",
       "      <th>2000</th>\n",
       "      <td>3002.91</td>\n",
       "    </tr>\n",
       "    <tr>\n",
       "      <th>2001</th>\n",
       "      <td>3080.42</td>\n",
       "    </tr>\n",
       "    <tr>\n",
       "      <th>2002</th>\n",
       "      <td>3073.21</td>\n",
       "    </tr>\n",
       "    <tr>\n",
       "      <th>2003</th>\n",
       "      <td>3134.09</td>\n",
       "    </tr>\n",
       "    <tr>\n",
       "      <th>2004</th>\n",
       "      <td>3067.14</td>\n",
       "    </tr>\n",
       "    <tr>\n",
       "      <th>2005</th>\n",
       "      <td>3138.37</td>\n",
       "    </tr>\n",
       "    <tr>\n",
       "      <th>2006</th>\n",
       "      <td>3192.96</td>\n",
       "    </tr>\n",
       "    <tr>\n",
       "      <th>2007</th>\n",
       "      <td>3227.05</td>\n",
       "    </tr>\n",
       "  </tbody>\n",
       "</table>\n",
       "</div>"
      ],
      "text/plain": [
       "       Australia\n",
       "years           \n",
       "1961     3086.60\n",
       "1962     3094.80\n",
       "1963     3132.78\n",
       "1964     3103.23\n",
       "1965     3053.95\n",
       "1966     3133.05\n",
       "1967     3089.43\n",
       "1968     3133.11\n",
       "1969     3156.68\n",
       "1970     3202.12\n",
       "1971     3244.26\n",
       "1972     3295.29\n",
       "1973     3161.55\n",
       "1974     3105.81\n",
       "1975     3165.20\n",
       "1976     3171.06\n",
       "1977     3113.85\n",
       "1978     3060.94\n",
       "1979     3040.05\n",
       "1980     3067.60\n",
       "1981     3079.17\n",
       "1982     3108.89\n",
       "1983     3049.26\n",
       "1984     3100.27\n",
       "1985     3134.12\n",
       "1986     3088.53\n",
       "1987     3113.50\n",
       "1988     3121.54\n",
       "1989     3141.58\n",
       "1990     3177.79\n",
       "1991     3109.40\n",
       "1992     3116.99\n",
       "1993     3044.14\n",
       "1994     3038.66\n",
       "1995     3081.55\n",
       "1996     3056.62\n",
       "1997     3091.38\n",
       "1998     3015.25\n",
       "1999     3013.15\n",
       "2000     3002.91\n",
       "2001     3080.42\n",
       "2002     3073.21\n",
       "2003     3134.09\n",
       "2004     3067.14\n",
       "2005     3138.37\n",
       "2006     3192.96\n",
       "2007     3227.05"
      ]
     },
     "execution_count": 20,
     "metadata": {},
     "output_type": "execute_result"
    }
   ],
   "source": [
    "data['in']['food'][\"Australia\"]"
   ]
  },
  {
   "cell_type": "code",
   "execution_count": 21,
   "metadata": {},
   "outputs": [
    {
     "data": {
      "image/png": "[encoded data removed]",
      "text/plain": [
       "<Figure size 432x288 with 1 Axes>"
      ]
     },
     "metadata": {
      "needs_background": "light"
     },
     "output_type": "display_data"
    }
   ],
   "source": [
    "plt.plot(data['in']['food'][\"Australia\"],'o')\n",
    "plt.grid(True)\n",
    "plt.show()"
   ]
  },
  {
   "cell_type": "code",
   "execution_count": 22,
   "metadata": {
    "scrolled": true
   },
   "outputs": [
    {
     "data": {
      "text/plain": [
       "<bound method DataFrame.iteritems of                     years\n",
       "country                  \n",
       "Iceland              1961\n",
       "Austria              1961\n",
       "Belgium              1961\n",
       "Canada               1961\n",
       "The Netherlands      1961\n",
       "Luxembourg           1961\n",
       "Denmark              1961\n",
       "France               1961\n",
       "Germany              1961\n",
       "Greece               1961\n",
       "Ireland              1961\n",
       "Norway               1961\n",
       "Italy                1962\n",
       "Finland              1969\n",
       "Australia            1971\n",
       "New Zealand          1973\n",
       "Japan                1974\n",
       "Mexico               1994\n",
       "The Czech Republic   1995\n",
       "Korea                1996\n",
       "Hungary              1996\n",
       "Poland               1996\n",
       "Israel               2010\n",
       "Estonia              2010\n",
       "Chile                2010\n",
       "Latvia               2016\n",
       "Lithuania            2018>"
      ]
     },
     "execution_count": 22,
     "metadata": {},
     "output_type": "execute_result"
    }
   ],
   "source": [
    "paises_oecd.sort_values(by=\"years\").items"
   ]
  },
  {
   "cell_type": "code",
   "execution_count": 23,
   "metadata": {},
   "outputs": [
    {
     "data": {
      "text/plain": [
       "['Niger', 'Ukraine', 'Trinidad and Tobago', 'Paraguay']"
      ]
     },
     "execution_count": 23,
     "metadata": {},
     "output_type": "execute_result"
    }
   ],
   "source": [
    "pick(pOut.index,4)"
   ]
  },
  {
   "cell_type": "markdown",
   "metadata": {},
   "source": [
    "Os valores sorteados em uma dada execução do código foram:<br>\n",
    "    <p style=\"font-family: monospace;color:red;font-size:1em;display:inline\">\n",
    "    Out[119]:\n",
    "    </p>\n",
    "    <p style=\"font-family: monospace;font-size:1em;display:inline\">\n",
    "    ['Panama', 'Swaziland', 'Sudan', 'Thailand']\n",
    "    </p>"
   ]
  },
  {
   "cell_type": "markdown",
   "metadata": {},
   "source": [
    "Vamos observar com mais atenção 4 países de cada grupo (fora e dentro da organização), listados a seguir, partindo de 1965 até 1979 e compará-los com outros 4 países que não estavam na organização.\n",
    "<br>\n",
    "<b>Países dentro da organização e anos de entrada: </b>\n",
    "<ul>\n",
    "    <li>Finland      1969</li>\n",
    "    <li>Australia    1971</li>\n",
    "    <li>New Zealand  1973</li>\n",
    "    <li>Japan        1974</li>\n",
    "</ul>\n",
    "<b>Países fora da organização: </b>\n",
    "<ul>\n",
    "    <li>Panama</li>\n",
    "    <li>Swaziland</li>\n",
    "    <li>Sudan</li>\n",
    "    <li>Thailand</li>\n",
    "</ul>"
   ]
  },
  {
   "cell_type": "markdown",
   "metadata": {},
   "source": [
    "Série de anos observados:"
   ]
  },
  {
   "cell_type": "code",
   "execution_count": 24,
   "metadata": {},
   "outputs": [],
   "source": [
    "anos = range(1965,1980)"
   ]
  },
  {
   "cell_type": "markdown",
   "metadata": {},
   "source": [
    "Série de Calorias por pessoa por dia nos anos observados:\n",
    "['Panama', 'Swaziland', 'Sudan', 'Thailand']"
   ]
  },
  {
   "cell_type": "code",
   "execution_count": 25,
   "metadata": {
    "scrolled": true
   },
   "outputs": [
    {
     "name": "stdout",
     "output_type": "stream",
     "text": [
      "       Finland  Australia  New Zealand    Japan\n",
      "years                                          \n",
      "1965   3123.81    3053.95      2965.94  2602.37\n",
      "1966   3141.07    3133.05      3080.26  2624.00\n",
      "1967   3067.89    3089.43      2999.31  2671.27\n",
      "1968   3069.50    3133.11      2971.38  2682.98\n",
      "1969   3182.00    3156.68      2962.08  2678.60 \n",
      "\n",
      "        Panama  Swaziland    Sudan  Thailand\n",
      "years                                       \n",
      "1965   2129.75    2173.25  1597.24   1966.11\n",
      "1966   2193.40    2162.42  1603.18   2052.04\n",
      "1967   2250.74    2097.62  1720.90   1986.54\n",
      "1968   2270.35    2241.74  1764.04   1998.13\n",
      "1969   2376.37    2242.13  1803.23   2038.62\n"
     ]
    }
   ],
   "source": [
    "food_tab_in = data['in']['food'][\"Finland\"].loc[anos].join([\n",
    "          data['in']['food'][\"Australia\"].loc[anos],\n",
    "          data['in']['food'][\"New Zealand\"].loc[anos],\n",
    "          data['in']['food'][\"Japan\"].loc[anos]])\n",
    "\n",
    "food_tab_out = data['out']['food'][\"Panama\"].loc[anos].join([\n",
    "          data['out']['food'][\"Swaziland\"].loc[anos],\n",
    "          data['out']['food'][\"Sudan\"].loc[anos],\n",
    "          data['out']['food'][\"Thailand\"].loc[anos]])\n",
    "\n",
    "print(food_tab_in.head(),'\\n')\n",
    "print(food_tab_out.head())"
   ]
  },
  {
   "cell_type": "markdown",
   "metadata": {},
   "source": [
    "Série de expectativa de vida nos anos observados:"
   ]
  },
  {
   "cell_type": "code",
   "execution_count": 26,
   "metadata": {},
   "outputs": [
    {
     "name": "stdout",
     "output_type": "stream",
     "text": [
      "       Finland  Australia  New Zealand  Japan\n",
      "years                                        \n",
      "1965      68.8       71.4         71.5   70.5\n",
      "1966      69.3       71.2         71.3   71.3\n",
      "1967      69.5       71.5         71.7   71.6\n",
      "1968      69.5       71.1         71.4   72.0\n",
      "1969      69.4       71.5         71.8   72.2 \n",
      "\n",
      "       Panama  Swaziland  Sudan  Thailand\n",
      "years                                    \n",
      "1965     65.8       48.7   50.5      60.1\n",
      "1966     66.3       49.1   51.0      60.5\n",
      "1967     66.8       49.6   51.4      61.0\n",
      "1968     67.3       50.1   51.8      61.4\n",
      "1969     67.8       50.7   52.2      61.9\n"
     ]
    }
   ],
   "source": [
    "life_tab_in = data['in']['life'][\"Finland\"].loc[anos].join([\n",
    "          data['in']['life'][\"Australia\"].loc[anos],\n",
    "          data['in']['life'][\"New Zealand\"].loc[anos],\n",
    "          data['in']['life'][\"Japan\"].loc[anos]])\n",
    "\n",
    "life_tab_out = data['out']['life'][\"Panama\"].loc[anos].join([\n",
    "          data['out']['life'][\"Swaziland\"].loc[anos],\n",
    "          data['out']['life'][\"Sudan\"].loc[anos],\n",
    "          data['out']['life'][\"Thailand\"].loc[anos]])\n",
    "\n",
    "print(life_tab_in.head(),'\\n')\n",
    "print(life_tab_out.head())"
   ]
  },
  {
   "cell_type": "markdown",
   "metadata": {},
   "source": [
    "Série de PIB <i>per capita</i> nos anos observados:"
   ]
  },
  {
   "cell_type": "code",
   "execution_count": 27,
   "metadata": {},
   "outputs": [
    {
     "data": {
      "text/plain": [
       "<matplotlib.axes._subplots.AxesSubplot at 0x221e50df390>"
      ]
     },
     "execution_count": 27,
     "metadata": {},
     "output_type": "execute_result"
    },
    {
     "data": {
      "image/png": "[encoded data removed]",
      "text/plain": [
       "<Figure size 432x288 with 1 Axes>"
      ]
     },
     "metadata": {
      "needs_background": "light"
     },
     "output_type": "display_data"
    }
   ],
   "source": [
    "life_tab_in.plot(marker='.', markersize=10,grid=True)"
   ]
  },
  {
   "cell_type": "code",
   "execution_count": 28,
   "metadata": {},
   "outputs": [
    {
     "data": {
      "image/png": "[encoded data removed]",
      "text/plain": [
       "<Figure size 432x288 with 1 Axes>"
      ]
     },
     "metadata": {
      "needs_background": "light"
     },
     "output_type": "display_data"
    }
   ],
   "source": [
    "plt.plot(life_tab_in,'.')\n",
    "plt.grid(True)"
   ]
  },
  {
   "cell_type": "code",
   "execution_count": 29,
   "metadata": {},
   "outputs": [
    {
     "data": {
      "text/plain": [
       "<matplotlib.axes._subplots.AxesSubplot at 0x221e6500ef0>"
      ]
     },
     "execution_count": 29,
     "metadata": {},
     "output_type": "execute_result"
    },
    {
     "data": {
      "image/png": "[encoded data removed]",
      "text/plain": [
       "<Figure size 432x288 with 1 Axes>"
      ]
     },
     "metadata": {
      "needs_background": "light"
     },
     "output_type": "display_data"
    }
   ],
   "source": [
    "life_tab_in.join(life_tab_out).plot()"
   ]
  },
  {
   "cell_type": "code",
   "execution_count": 83,
   "metadata": {},
   "outputs": [
    {
     "data": {
      "text/html": [
       "<div>\n",
       "<style scoped>\n",
       "    .dataframe tbody tr th:only-of-type {\n",
       "        vertical-align: middle;\n",
       "    }\n",
       "\n",
       "    .dataframe tbody tr th {\n",
       "        vertical-align: top;\n",
       "    }\n",
       "\n",
       "    .dataframe thead th {\n",
       "        text-align: right;\n",
       "    }\n",
       "</style>\n",
       "<table border=\"1\" class=\"dataframe\">\n",
       "  <thead>\n",
       "    <tr style=\"text-align: right;\">\n",
       "      <th>years</th>\n",
       "      <th>1965</th>\n",
       "      <th>1966</th>\n",
       "      <th>1967</th>\n",
       "      <th>1968</th>\n",
       "      <th>1969</th>\n",
       "      <th>1970</th>\n",
       "      <th>1971</th>\n",
       "      <th>1972</th>\n",
       "      <th>1973</th>\n",
       "      <th>1974</th>\n",
       "      <th>1975</th>\n",
       "      <th>1976</th>\n",
       "      <th>1977</th>\n",
       "      <th>1978</th>\n",
       "      <th>1979</th>\n",
       "    </tr>\n",
       "  </thead>\n",
       "  <tbody>\n",
       "    <tr>\n",
       "      <th>count</th>\n",
       "      <td>20.000000</td>\n",
       "      <td>20.000000</td>\n",
       "      <td>20.000000</td>\n",
       "      <td>20.000000</td>\n",
       "      <td>20.000000</td>\n",
       "      <td>20.000000</td>\n",
       "      <td>20.000000</td>\n",
       "      <td>20.000000</td>\n",
       "      <td>20.000000</td>\n",
       "      <td>20.000000</td>\n",
       "      <td>20.000000</td>\n",
       "      <td>20.000000</td>\n",
       "      <td>20.000000</td>\n",
       "      <td>20.000000</td>\n",
       "      <td>20.000000</td>\n",
       "    </tr>\n",
       "    <tr>\n",
       "      <th>mean</th>\n",
       "      <td>3012.840500</td>\n",
       "      <td>3051.940000</td>\n",
       "      <td>3048.033500</td>\n",
       "      <td>3062.480500</td>\n",
       "      <td>3074.380000</td>\n",
       "      <td>3104.509000</td>\n",
       "      <td>3128.217000</td>\n",
       "      <td>3134.586500</td>\n",
       "      <td>3158.576000</td>\n",
       "      <td>3143.002500</td>\n",
       "      <td>3122.098500</td>\n",
       "      <td>3156.571500</td>\n",
       "      <td>3145.969000</td>\n",
       "      <td>3175.968500</td>\n",
       "      <td>3187.447000</td>\n",
       "    </tr>\n",
       "    <tr>\n",
       "      <th>std</th>\n",
       "      <td>254.906959</td>\n",
       "      <td>235.843744</td>\n",
       "      <td>228.193116</td>\n",
       "      <td>224.743899</td>\n",
       "      <td>238.739661</td>\n",
       "      <td>244.400019</td>\n",
       "      <td>247.331738</td>\n",
       "      <td>233.368748</td>\n",
       "      <td>271.241711</td>\n",
       "      <td>246.890124</td>\n",
       "      <td>265.345559</td>\n",
       "      <td>243.903606</td>\n",
       "      <td>250.333232</td>\n",
       "      <td>262.702678</td>\n",
       "      <td>263.171254</td>\n",
       "    </tr>\n",
       "    <tr>\n",
       "      <th>min</th>\n",
       "      <td>2418.350000</td>\n",
       "      <td>2460.970000</td>\n",
       "      <td>2508.820000</td>\n",
       "      <td>2544.510000</td>\n",
       "      <td>2564.070000</td>\n",
       "      <td>2592.360000</td>\n",
       "      <td>2588.660000</td>\n",
       "      <td>2628.720000</td>\n",
       "      <td>2572.830000</td>\n",
       "      <td>2693.650000</td>\n",
       "      <td>2492.110000</td>\n",
       "      <td>2604.330000</td>\n",
       "      <td>2559.080000</td>\n",
       "      <td>2616.290000</td>\n",
       "      <td>2661.010000</td>\n",
       "    </tr>\n",
       "    <tr>\n",
       "      <th>25%</th>\n",
       "      <td>2941.332500</td>\n",
       "      <td>2937.595000</td>\n",
       "      <td>2972.425000</td>\n",
       "      <td>2962.360000</td>\n",
       "      <td>2958.577500</td>\n",
       "      <td>3001.230000</td>\n",
       "      <td>3006.317500</td>\n",
       "      <td>3063.650000</td>\n",
       "      <td>3015.685000</td>\n",
       "      <td>3019.592500</td>\n",
       "      <td>2985.885000</td>\n",
       "      <td>3037.107500</td>\n",
       "      <td>3036.475000</td>\n",
       "      <td>3038.042500</td>\n",
       "      <td>3032.035000</td>\n",
       "    </tr>\n",
       "    <tr>\n",
       "      <th>50%</th>\n",
       "      <td>3080.685000</td>\n",
       "      <td>3106.040000</td>\n",
       "      <td>3075.255000</td>\n",
       "      <td>3081.990000</td>\n",
       "      <td>3103.785000</td>\n",
       "      <td>3137.335000</td>\n",
       "      <td>3181.010000</td>\n",
       "      <td>3159.495000</td>\n",
       "      <td>3200.155000</td>\n",
       "      <td>3159.770000</td>\n",
       "      <td>3162.965000</td>\n",
       "      <td>3206.480000</td>\n",
       "      <td>3179.735000</td>\n",
       "      <td>3152.425000</td>\n",
       "      <td>3193.905000</td>\n",
       "    </tr>\n",
       "    <tr>\n",
       "      <th>75%</th>\n",
       "      <td>3137.177500</td>\n",
       "      <td>3202.315000</td>\n",
       "      <td>3205.115000</td>\n",
       "      <td>3214.375000</td>\n",
       "      <td>3204.700000</td>\n",
       "      <td>3249.842500</td>\n",
       "      <td>3259.045000</td>\n",
       "      <td>3263.310000</td>\n",
       "      <td>3309.622500</td>\n",
       "      <td>3293.672500</td>\n",
       "      <td>3269.990000</td>\n",
       "      <td>3288.322500</td>\n",
       "      <td>3326.075000</td>\n",
       "      <td>3351.882500</td>\n",
       "      <td>3347.875000</td>\n",
       "    </tr>\n",
       "    <tr>\n",
       "      <th>max</th>\n",
       "      <td>3396.640000</td>\n",
       "      <td>3389.160000</td>\n",
       "      <td>3421.630000</td>\n",
       "      <td>3419.400000</td>\n",
       "      <td>3433.240000</td>\n",
       "      <td>3451.840000</td>\n",
       "      <td>3488.000000</td>\n",
       "      <td>3478.360000</td>\n",
       "      <td>3556.530000</td>\n",
       "      <td>3526.330000</td>\n",
       "      <td>3538.330000</td>\n",
       "      <td>3590.810000</td>\n",
       "      <td>3581.830000</td>\n",
       "      <td>3602.800000</td>\n",
       "      <td>3604.630000</td>\n",
       "    </tr>\n",
       "  </tbody>\n",
       "</table>\n",
       "</div>"
      ],
      "text/plain": [
       "years         1965         1966         1967         1968         1969  \\\n",
       "count    20.000000    20.000000    20.000000    20.000000    20.000000   \n",
       "mean   3012.840500  3051.940000  3048.033500  3062.480500  3074.380000   \n",
       "std     254.906959   235.843744   228.193116   224.743899   238.739661   \n",
       "min    2418.350000  2460.970000  2508.820000  2544.510000  2564.070000   \n",
       "25%    2941.332500  2937.595000  2972.425000  2962.360000  2958.577500   \n",
       "50%    3080.685000  3106.040000  3075.255000  3081.990000  3103.785000   \n",
       "75%    3137.177500  3202.315000  3205.115000  3214.375000  3204.700000   \n",
       "max    3396.640000  3389.160000  3421.630000  3419.400000  3433.240000   \n",
       "\n",
       "years         1970         1971         1972         1973         1974  \\\n",
       "count    20.000000    20.000000    20.000000    20.000000    20.000000   \n",
       "mean   3104.509000  3128.217000  3134.586500  3158.576000  3143.002500   \n",
       "std     244.400019   247.331738   233.368748   271.241711   246.890124   \n",
       "min    2592.360000  2588.660000  2628.720000  2572.830000  2693.650000   \n",
       "25%    3001.230000  3006.317500  3063.650000  3015.685000  3019.592500   \n",
       "50%    3137.335000  3181.010000  3159.495000  3200.155000  3159.770000   \n",
       "75%    3249.842500  3259.045000  3263.310000  3309.622500  3293.672500   \n",
       "max    3451.840000  3488.000000  3478.360000  3556.530000  3526.330000   \n",
       "\n",
       "years         1975         1976         1977         1978         1979  \n",
       "count    20.000000    20.000000    20.000000    20.000000    20.000000  \n",
       "mean   3122.098500  3156.571500  3145.969000  3175.968500  3187.447000  \n",
       "std     265.345559   243.903606   250.333232   262.702678   263.171254  \n",
       "min    2492.110000  2604.330000  2559.080000  2616.290000  2661.010000  \n",
       "25%    2985.885000  3037.107500  3036.475000  3038.042500  3032.035000  \n",
       "50%    3162.965000  3206.480000  3179.735000  3152.425000  3193.905000  \n",
       "75%    3269.990000  3288.322500  3326.075000  3351.882500  3347.875000  \n",
       "max    3538.330000  3590.810000  3581.830000  3602.800000  3604.630000  "
      ]
     },
     "execution_count": 83,
     "metadata": {},
     "output_type": "execute_result"
    }
   ],
   "source": [
    "food_oecd.loc[:,anos].dropna().describe()"
   ]
  },
  {
   "cell_type": "code",
   "execution_count": 80,
   "metadata": {
    "scrolled": true
   },
   "outputs": [
    {
     "data": {
      "text/html": [
       "<div>\n",
       "<style scoped>\n",
       "    .dataframe tbody tr th:only-of-type {\n",
       "        vertical-align: middle;\n",
       "    }\n",
       "\n",
       "    .dataframe tbody tr th {\n",
       "        vertical-align: top;\n",
       "    }\n",
       "\n",
       "    .dataframe thead th {\n",
       "        text-align: right;\n",
       "    }\n",
       "</style>\n",
       "<table border=\"1\" class=\"dataframe\">\n",
       "  <thead>\n",
       "    <tr style=\"text-align: right;\">\n",
       "      <th>years</th>\n",
       "      <th>1965</th>\n",
       "      <th>1966</th>\n",
       "      <th>1967</th>\n",
       "      <th>1968</th>\n",
       "      <th>1969</th>\n",
       "      <th>1970</th>\n",
       "      <th>1971</th>\n",
       "      <th>1972</th>\n",
       "      <th>1973</th>\n",
       "      <th>1974</th>\n",
       "      <th>1975</th>\n",
       "      <th>1976</th>\n",
       "      <th>1977</th>\n",
       "      <th>1978</th>\n",
       "      <th>1979</th>\n",
       "    </tr>\n",
       "  </thead>\n",
       "  <tbody>\n",
       "    <tr>\n",
       "      <th>count</th>\n",
       "      <td>20.000000</td>\n",
       "      <td>20.000000</td>\n",
       "      <td>20.000000</td>\n",
       "      <td>20.000000</td>\n",
       "      <td>20.000000</td>\n",
       "      <td>20.000000</td>\n",
       "      <td>20.000000</td>\n",
       "      <td>20.000000</td>\n",
       "      <td>20.000000</td>\n",
       "      <td>20.000000</td>\n",
       "      <td>20.000000</td>\n",
       "      <td>20.000000</td>\n",
       "      <td>20.000000</td>\n",
       "      <td>20.000000</td>\n",
       "      <td>20.000000</td>\n",
       "    </tr>\n",
       "    <tr>\n",
       "      <th>mean</th>\n",
       "      <td>3012.840500</td>\n",
       "      <td>3051.940000</td>\n",
       "      <td>3048.033500</td>\n",
       "      <td>3062.480500</td>\n",
       "      <td>3074.380000</td>\n",
       "      <td>3104.509000</td>\n",
       "      <td>3128.217000</td>\n",
       "      <td>3134.586500</td>\n",
       "      <td>3158.576000</td>\n",
       "      <td>3143.002500</td>\n",
       "      <td>3122.098500</td>\n",
       "      <td>3156.571500</td>\n",
       "      <td>3145.969000</td>\n",
       "      <td>3175.968500</td>\n",
       "      <td>3187.447000</td>\n",
       "    </tr>\n",
       "    <tr>\n",
       "      <th>std</th>\n",
       "      <td>254.906959</td>\n",
       "      <td>235.843744</td>\n",
       "      <td>228.193116</td>\n",
       "      <td>224.743899</td>\n",
       "      <td>238.739661</td>\n",
       "      <td>244.400019</td>\n",
       "      <td>247.331738</td>\n",
       "      <td>233.368748</td>\n",
       "      <td>271.241711</td>\n",
       "      <td>246.890124</td>\n",
       "      <td>265.345559</td>\n",
       "      <td>243.903606</td>\n",
       "      <td>250.333232</td>\n",
       "      <td>262.702678</td>\n",
       "      <td>263.171254</td>\n",
       "    </tr>\n",
       "    <tr>\n",
       "      <th>min</th>\n",
       "      <td>2418.350000</td>\n",
       "      <td>2460.970000</td>\n",
       "      <td>2508.820000</td>\n",
       "      <td>2544.510000</td>\n",
       "      <td>2564.070000</td>\n",
       "      <td>2592.360000</td>\n",
       "      <td>2588.660000</td>\n",
       "      <td>2628.720000</td>\n",
       "      <td>2572.830000</td>\n",
       "      <td>2693.650000</td>\n",
       "      <td>2492.110000</td>\n",
       "      <td>2604.330000</td>\n",
       "      <td>2559.080000</td>\n",
       "      <td>2616.290000</td>\n",
       "      <td>2661.010000</td>\n",
       "    </tr>\n",
       "    <tr>\n",
       "      <th>25%</th>\n",
       "      <td>2941.332500</td>\n",
       "      <td>2937.595000</td>\n",
       "      <td>2972.425000</td>\n",
       "      <td>2962.360000</td>\n",
       "      <td>2958.577500</td>\n",
       "      <td>3001.230000</td>\n",
       "      <td>3006.317500</td>\n",
       "      <td>3063.650000</td>\n",
       "      <td>3015.685000</td>\n",
       "      <td>3019.592500</td>\n",
       "      <td>2985.885000</td>\n",
       "      <td>3037.107500</td>\n",
       "      <td>3036.475000</td>\n",
       "      <td>3038.042500</td>\n",
       "      <td>3032.035000</td>\n",
       "    </tr>\n",
       "    <tr>\n",
       "      <th>50%</th>\n",
       "      <td>3080.685000</td>\n",
       "      <td>3106.040000</td>\n",
       "      <td>3075.255000</td>\n",
       "      <td>3081.990000</td>\n",
       "      <td>3103.785000</td>\n",
       "      <td>3137.335000</td>\n",
       "      <td>3181.010000</td>\n",
       "      <td>3159.495000</td>\n",
       "      <td>3200.155000</td>\n",
       "      <td>3159.770000</td>\n",
       "      <td>3162.965000</td>\n",
       "      <td>3206.480000</td>\n",
       "      <td>3179.735000</td>\n",
       "      <td>3152.425000</td>\n",
       "      <td>3193.905000</td>\n",
       "    </tr>\n",
       "    <tr>\n",
       "      <th>75%</th>\n",
       "      <td>3137.177500</td>\n",
       "      <td>3202.315000</td>\n",
       "      <td>3205.115000</td>\n",
       "      <td>3214.375000</td>\n",
       "      <td>3204.700000</td>\n",
       "      <td>3249.842500</td>\n",
       "      <td>3259.045000</td>\n",
       "      <td>3263.310000</td>\n",
       "      <td>3309.622500</td>\n",
       "      <td>3293.672500</td>\n",
       "      <td>3269.990000</td>\n",
       "      <td>3288.322500</td>\n",
       "      <td>3326.075000</td>\n",
       "      <td>3351.882500</td>\n",
       "      <td>3347.875000</td>\n",
       "    </tr>\n",
       "    <tr>\n",
       "      <th>max</th>\n",
       "      <td>3396.640000</td>\n",
       "      <td>3389.160000</td>\n",
       "      <td>3421.630000</td>\n",
       "      <td>3419.400000</td>\n",
       "      <td>3433.240000</td>\n",
       "      <td>3451.840000</td>\n",
       "      <td>3488.000000</td>\n",
       "      <td>3478.360000</td>\n",
       "      <td>3556.530000</td>\n",
       "      <td>3526.330000</td>\n",
       "      <td>3538.330000</td>\n",
       "      <td>3590.810000</td>\n",
       "      <td>3581.830000</td>\n",
       "      <td>3602.800000</td>\n",
       "      <td>3604.630000</td>\n",
       "    </tr>\n",
       "  </tbody>\n",
       "</table>\n",
       "</div>"
      ],
      "text/plain": [
       "years         1965         1966         1967         1968         1969  \\\n",
       "count    20.000000    20.000000    20.000000    20.000000    20.000000   \n",
       "mean   3012.840500  3051.940000  3048.033500  3062.480500  3074.380000   \n",
       "std     254.906959   235.843744   228.193116   224.743899   238.739661   \n",
       "min    2418.350000  2460.970000  2508.820000  2544.510000  2564.070000   \n",
       "25%    2941.332500  2937.595000  2972.425000  2962.360000  2958.577500   \n",
       "50%    3080.685000  3106.040000  3075.255000  3081.990000  3103.785000   \n",
       "75%    3137.177500  3202.315000  3205.115000  3214.375000  3204.700000   \n",
       "max    3396.640000  3389.160000  3421.630000  3419.400000  3433.240000   \n",
       "\n",
       "years         1970         1971         1972         1973         1974  \\\n",
       "count    20.000000    20.000000    20.000000    20.000000    20.000000   \n",
       "mean   3104.509000  3128.217000  3134.586500  3158.576000  3143.002500   \n",
       "std     244.400019   247.331738   233.368748   271.241711   246.890124   \n",
       "min    2592.360000  2588.660000  2628.720000  2572.830000  2693.650000   \n",
       "25%    3001.230000  3006.317500  3063.650000  3015.685000  3019.592500   \n",
       "50%    3137.335000  3181.010000  3159.495000  3200.155000  3159.770000   \n",
       "75%    3249.842500  3259.045000  3263.310000  3309.622500  3293.672500   \n",
       "max    3451.840000  3488.000000  3478.360000  3556.530000  3526.330000   \n",
       "\n",
       "years         1975         1976         1977         1978         1979  \n",
       "count    20.000000    20.000000    20.000000    20.000000    20.000000  \n",
       "mean   3122.098500  3156.571500  3145.969000  3175.968500  3187.447000  \n",
       "std     265.345559   243.903606   250.333232   262.702678   263.171254  \n",
       "min    2492.110000  2604.330000  2559.080000  2616.290000  2661.010000  \n",
       "25%    2985.885000  3037.107500  3036.475000  3038.042500  3032.035000  \n",
       "50%    3162.965000  3206.480000  3179.735000  3152.425000  3193.905000  \n",
       "75%    3269.990000  3288.322500  3326.075000  3351.882500  3347.875000  \n",
       "max    3538.330000  3590.810000  3581.830000  3602.800000  3604.630000  "
      ]
     },
     "execution_count": 80,
     "metadata": {},
     "output_type": "execute_result"
    }
   ],
   "source": [
    "food_oecd.loc[:,anos].describe()"
   ]
  },
  {
   "cell_type": "code",
   "execution_count": 78,
   "metadata": {
    "scrolled": true
   },
   "outputs": [
    {
     "data": {
      "image/png": "[encoded data removed]",
      "text/plain": [
       "<Figure size 432x288 with 1 Axes>"
      ]
     },
     "metadata": {
      "needs_background": "light"
     },
     "output_type": "display_data"
    }
   ],
   "source": [
    "plt.plot(anos,food_oecd.loc[:,anos].dropna().mean(),'.',color=\"blue\",label=\"IN\")\n",
    "plt.plot(anos,food.loc[:,anos].dropna().mean(),'.',color=\"red\",label=\"OUT\")\n",
    "plt.legend()\n",
    "plt.grid(True)"
   ]
  },
  {
   "cell_type": "code",
   "execution_count": null,
   "metadata": {},
   "outputs": [],
   "source": []
  }
 ],
 "metadata": {
  "kernelspec": {
   "display_name": "Python 3",
   "language": "python",
   "name": "python3"
  },
  "language_info": {
   "codemirror_mode": {
    "name": "ipython",
    "version": 3
   },
   "file_extension": ".py",
   "mimetype": "text/x-python",
   "name": "python",
   "nbconvert_exporter": "python",
   "pygments_lexer": "ipython3",
   "version": "3.7.1"
  }
 },
 "nbformat": 4,
 "nbformat_minor": 2
}
